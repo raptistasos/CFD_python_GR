{
 "cells": [
  {
   "cell_type": "markdown",
   "metadata": {},
   "source": [
    "# Η εξίσωση Μεταφοράς\n",
    "\n",
    "## Εξίσωση μεταφοράς σε μια διάσταση\n",
    "\n",
    "## Εμπρόσθιες διαφορές στο χρόνο και κεντρικές διαφορές στο χώρο\n",
    "\n",
    "## Σχήμα Leapfrog στο χρόνο και κεντρικές διαφορές στο χώρο\n",
    "\n",
    "## Σχήμα ανάντη διαφορών (upwind)\n",
    "\n",
    "## Σχήμα των Crank-Nicolson στο χρόνο και κεντρικές διαφορές στο χώρο\n",
    "\n",
    "## Η μέθοδος των Lax-Wendroff\n",
    "\n",
    "## Επέκταση στις δύο διαστάσεις\n",
    "\n",
    "## Εφαρμογές & ασκήσεις\n"
   ]
  }
 ],
 "metadata": {
  "kernelspec": {
   "display_name": "Python 3",
   "language": "python",
   "name": "python3"
  },
  "language_info": {
   "codemirror_mode": {
    "name": "ipython",
    "version": 3
   },
   "file_extension": ".py",
   "mimetype": "text/x-python",
   "name": "python",
   "nbconvert_exporter": "python",
   "pygments_lexer": "ipython3",
   "version": "3.7.6"
  }
 },
 "nbformat": 4,
 "nbformat_minor": 4
}

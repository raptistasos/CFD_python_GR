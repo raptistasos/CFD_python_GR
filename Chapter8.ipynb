{
 "cells": [
  {
   "cell_type": "markdown",
   "metadata": {},
   "source": [
    "# Μη-μόνιμη Μεταφορά & Διάχυση\n",
    "\n",
    "## Εξίσωση μη μόνιμη μεταφοράς & διάχυσης σε μια διάσταση\n",
    "\n",
    "## Εμπρόσθιες διαφορές στο χρόνο & κεντρικές διαφορές στο χώρο\n",
    "\n",
    "## Εμπρόσθιες διαφορές στο χρόνο & upwind στο χώρο\n",
    "\n",
    "## Επέκταση στις 2 διαστάσεις\n",
    "\n",
    "## Εφαρμογές & ασκήσεις\n"
   ]
  }
 ],
 "metadata": {
  "kernelspec": {
   "display_name": "Python 3",
   "language": "python",
   "name": "python3"
  },
  "language_info": {
   "codemirror_mode": {
    "name": "ipython",
    "version": 3
   },
   "file_extension": ".py",
   "mimetype": "text/x-python",
   "name": "python",
   "nbconvert_exporter": "python",
   "pygments_lexer": "ipython3",
   "version": "3.7.6"
  }
 },
 "nbformat": 4,
 "nbformat_minor": 4
}

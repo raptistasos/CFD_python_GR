{
 "cells": [
  {
   "cell_type": "markdown",
   "metadata": {},
   "source": [
    "# Εφαρμογές\n",
    "\n",
    "**Περίληψη**. Το βιβλίο κλείνει με αυτό το κεφάλαιο το οποίο περιέχει βασικές εφαρμογές, όπως είναι η ροή σε ορθογώνια κοιλότητα, η ροή σε κανάλι κ.α. καθώς και ασκήσεις προς λύση.  Οι βασικές αυτές εφαρμογές είναι ουσιαστικά προβλήματα δοκιμής της αριθμητικής διαδικασίας, δηλαδή προβλήματα με γνωστή λύση και συμπεριφορά. Οι ασκήσεις προς λύση περιέχουν υπόδειξη και βασικά βήματα επίλυσης τους.\n",
    "\n",
    "## Ροή σε ορθογώνια κοιλότητα\n",
    "\n",
    "## Ροή σε κανάλι\n",
    "\n",
    "## Ασκήσεις\n"
   ]
  }
 ],
 "metadata": {
  "kernelspec": {
   "display_name": "Python 3",
   "language": "python",
   "name": "python3"
  },
  "language_info": {
   "codemirror_mode": {
    "name": "ipython",
    "version": 3
   },
   "file_extension": ".py",
   "mimetype": "text/x-python",
   "name": "python",
   "nbconvert_exporter": "python",
   "pygments_lexer": "ipython3",
   "version": "3.7.6"
  }
 },
 "nbformat": 4,
 "nbformat_minor": 4
}

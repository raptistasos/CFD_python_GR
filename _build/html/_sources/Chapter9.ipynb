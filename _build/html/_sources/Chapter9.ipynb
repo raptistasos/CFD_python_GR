{
 "cells": [
  {
   "cell_type": "markdown",
   "metadata": {},
   "source": [
    "# Η εξίσωση του Burger και η εξίσωση των Korteweg-de Vries (KdV)\n",
    "\n",
    "**Περίληψη**. Σε αυτό το κεφάλαιο εισάγονται η εξίσωση του Burger (έχει παρουσιαστεί και στο προηγούμενο κεφάλαιο – εδώ παρουσιάζεται σε δύο μορφές, ιξωδική και ανιξωδική) και η εξίσωση των Korteweg-de Vries (KdV). Αυτές αποτελούν ΜΔΕ παραβολικού τύπου και περιγράφουν φυσικά φαινόμενα: κρουστικά κύματα η πρώτη και μοναχικά (σολιτονικά) κύματα η δεύτερη. Επιλύονται αριθμητικά με την βοήθεια αριθμητικών μεθόδων χαμηλής τάξης ακρίβειας όπως είναι οι μέθοδοι των Lax-Friedrichs, των Lax-Wendroff, το αριθμητικό σχήμα του MacCormack και την προσέγγιση του Godunov. Εισάγονται οι φασματικές μέθοδοι που αποτελούν μια αριθμητική μέθοδος υψηλής τάξης ακρίβειας και ο FFT (fast Fourier transform) μετασχηματισμός. Το κεφάλαιο κλείνει με αναλυτικές εφαρμογές και ασκήσεις προς λύση με υπόδειξη για τα βασικά βήματα επίλυσης τους.\n",
    "\n",
    "\n",
    "## Εξίσωση του Burger\n",
    "\n",
    "## Εξίσωση των KdV\n",
    "\n",
    "## Το σχήμα των Lax-Friedrichs\n",
    "\n",
    "## Το σχήμα των Lax-Wendroff\n",
    "\n",
    "## Το σχήμα του MacCormack\n",
    "\n",
    "## Προσέγγιση του Godunov\n",
    "\n",
    "## Φασματική Μέθοδος\n",
    "\n",
    "## Εφαρμογές & ασκήσεις\n"
   ]
  }
 ],
 "metadata": {
  "kernelspec": {
   "display_name": "Python 3",
   "language": "python",
   "name": "python3"
  },
  "language_info": {
   "codemirror_mode": {
    "name": "ipython",
    "version": 3
   },
   "file_extension": ".py",
   "mimetype": "text/x-python",
   "name": "python",
   "nbconvert_exporter": "python",
   "pygments_lexer": "ipython3",
   "version": "3.7.6"
  }
 },
 "nbformat": 4,
 "nbformat_minor": 4
}

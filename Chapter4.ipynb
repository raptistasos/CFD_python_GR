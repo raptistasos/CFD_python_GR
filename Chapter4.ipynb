{
 "cells": [
  {
   "cell_type": "markdown",
   "metadata": {},
   "source": [
    "# Η εξίσωση Διάχυσης\n",
    "\n",
    "## Η εξίσωση διάχυσης σε μια διάσταση\n",
    "\n",
    "## Το πρόβλημα αρχικών-συνοριακών τιμών για διάχυση σε μια διάσταση\n",
    "\n",
    "## Άμεσο και πεπλεγμένο σχήμα του Euler\n",
    "\n",
    "## Το σχήμα των Crank-Nicolson\n",
    "\n",
    "## Ο κανόνας θ\n",
    "\n",
    "## Αριθμητικό σχήμα του Richardson\n",
    "\n",
    "## Τύπος των Dufort-Frankel\n",
    "\n",
    "## Επέκταση στις 2 διαστάσεις\n",
    "\n",
    "## Εφαρμογές & ασκήσεις\n",
    "\n"
   ]
  }
 ],
 "metadata": {
  "kernelspec": {
   "display_name": "Python 3",
   "language": "python",
   "name": "python3"
  },
  "language_info": {
   "codemirror_mode": {
    "name": "ipython",
    "version": 3
   },
   "file_extension": ".py",
   "mimetype": "text/x-python",
   "name": "python",
   "nbconvert_exporter": "python",
   "pygments_lexer": "ipython3",
   "version": "3.7.6"
  }
 },
 "nbformat": 4,
 "nbformat_minor": 4
}

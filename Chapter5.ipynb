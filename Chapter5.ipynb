{
 "cells": [
  {
   "cell_type": "markdown",
   "metadata": {},
   "source": [
    "# Οι εξισώσεις Laplace και Poisson\n",
    "\n",
    "**Περίληψη**. Σε αυτό το κεφάλαιο οι εξισώσεις Laplace και Poisson επιλύονται αριθμητικά ως επόμενο βήμα της μεθοδολογίας. Περιγράφεται η διακριτοποίηση των εξισώσεων με τις μεθόδους ΠΔ και ΠΟ. Τα αριθμητικά σχήματα που προκύπτουν, επιλύονται για μικρά υπολογιστικό πλέγματα με τις μεθόδους των Jacobi, Gauss-Seidel και την μέθοδο της διαδοχικής υπερχαλάρωσης.\n",
    "\n",
    "\n",
    "## Διακριτοποίηση\n",
    "\n",
    "## Μέθοδος του Jacobi\n",
    "\n",
    "## Μέθοδος των Gauss-Seidel\n",
    "\n",
    "## Μέθοδος διαδοχικής υπερ-χαλάρωσης\n"
   ]
  }
 ],
 "metadata": {
  "kernelspec": {
   "display_name": "Python 3",
   "language": "python",
   "name": "python3"
  },
  "language_info": {
   "codemirror_mode": {
    "name": "ipython",
    "version": 3
   },
   "file_extension": ".py",
   "mimetype": "text/x-python",
   "name": "python",
   "nbconvert_exporter": "python",
   "pygments_lexer": "ipython3",
   "version": "3.7.6"
  }
 },
 "nbformat": 4,
 "nbformat_minor": 4
}
